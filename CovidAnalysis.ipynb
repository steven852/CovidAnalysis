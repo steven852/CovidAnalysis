{
 "cells": [
  {
   "cell_type": "markdown",
   "metadata": {},
   "source": [
    "## Imports"
   ]
  },
  {
   "cell_type": "code",
   "execution_count": 1,
   "metadata": {},
   "outputs": [],
   "source": [
    "import requests\n",
    "import json\n",
    "import numpy as np\n",
    "import pandas as pd\n",
    "import matplotlib.pyplot as plt\n",
    "from datetime import datetime\n",
    "import seaborn as sns\n",
    "from scipy.interpolate import interp1d\n",
    "\n",
    "URL = \"https://covid-19-greece.herokuapp.com/\"\n",
    "response = requests.get(URL+\"confirmed\")\n",
    "data = pd.DataFrame.from_records(response.json()[\"cases\"])\n",
    "data['date'] = pd.to_datetime(data['date'], format = '%Y-%m-%d')\n",
    "\n",
    "sns.set(rc = {'figure.figsize':(20,10)})"
   ]
  },
  {
   "cell_type": "markdown",
   "metadata": {},
   "source": [
    "## Total confirmed cases per day (does not count cured cases)"
   ]
  },
  {
   "cell_type": "code",
   "execution_count": null,
   "metadata": {},
   "outputs": [
    {
     "data": {
      "text/plain": [
       "(array([737425., 737485., 737546., 737607., 737669., 737730., 737791.,\n",
       "        737850., 737911., 737972., 738034., 738095.]),\n",
       " <a list of 12 Text xticklabel objects>)"
      ]
     },
     "execution_count": 2,
     "metadata": {},
     "output_type": "execute_result"
    }
   ],
   "source": [
    "plot = sns.lineplot(x=\"date\", y=\"confirmed\", data=data)\n",
    "plt.xticks(rotation=45)"
   ]
  },
  {
   "cell_type": "markdown",
   "metadata": {},
   "source": [
    "## Confirmed new cases per day"
   ]
  },
  {
   "cell_type": "code",
   "execution_count": null,
   "metadata": {},
   "outputs": [],
   "source": [
    "data['diff'] = data[\"confirmed\"].diff()\n",
    "data['movingAvg'] = data[\"diff\"].rolling(window=7).mean()"
   ]
  },
  {
   "cell_type": "code",
   "execution_count": null,
   "metadata": {},
   "outputs": [],
   "source": [
    "fig, ax = plt.subplots()\n",
    "data.plot.line(x='date', y='movingAvg', color='blue', ax = ax)\n",
    "data.plot.scatter(x='date', y='diff', color='red', ax = ax, secondary_y=True)\n",
    "\n",
    "ax.axvspan(datetime(2020,3,24), datetime(2020,5,4), \n",
    "           label=\"Greece First Lockdown\", color=\"green\", alpha=0.6)\n",
    "ax.axvspan(datetime(2020,11,7), datetime(2021,5,24), \n",
    "           label=\"Greece Second Lockdown\", color=\"yellow\", alpha=0.6)\n",
    "\n",
    "ax.legend()\n",
    "plt.show()"
   ]
  },
  {
   "cell_type": "code",
   "execution_count": null,
   "metadata": {},
   "outputs": [],
   "source": []
  }
 ],
 "metadata": {
  "kernelspec": {
   "display_name": "Python 3",
   "language": "python",
   "name": "python3"
  },
  "language_info": {
   "codemirror_mode": {
    "name": "ipython",
    "version": 3
   },
   "file_extension": ".py",
   "mimetype": "text/x-python",
   "name": "python",
   "nbconvert_exporter": "python",
   "pygments_lexer": "ipython3",
   "version": "3.7.4"
  }
 },
 "nbformat": 4,
 "nbformat_minor": 4
}
